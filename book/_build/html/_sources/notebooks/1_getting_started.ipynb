{
 "cells": [
  {
   "cell_type": "markdown",
   "id": "4b30886e-4f8b-4d4f-b978-f5297ca9be13",
   "metadata": {},
   "source": [
    "# 1. Getting started"
   ]
  },
  {
   "cell_type": "code",
   "execution_count": null,
   "id": "26478a1b-c2ed-442e-9235-8021cdd86af4",
   "metadata": {},
   "outputs": [],
   "source": []
  }
 ],
 "metadata": {
  "kernelspec": {
   "display_name": "Python 3 (ipykernel)",
   "language": "python",
   "name": "python3"
  },
  "language_info": {
   "codemirror_mode": {
    "name": "ipython",
    "version": 3
   },
   "file_extension": ".py",
   "mimetype": "text/x-python",
   "name": "python",
   "nbconvert_exporter": "python",
   "pygments_lexer": "ipython3",
   "version": "3.10.12"
  }
 },
 "nbformat": 4,
 "nbformat_minor": 5
}
