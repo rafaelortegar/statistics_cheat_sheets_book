{
 "cells": [
  {
   "cell_type": "markdown",
   "id": "13e28ada-c936-4b96-a9d0-cd9d4e45824a",
   "metadata": {},
   "source": [
    "# 2. Foundations of Statistics\n",
    "\n",
    "In this section, we will cover the basic terminology and foundational concepts of statistics. \n",
    "These concepts are essential for understanding more advanced topics in data science."
   ]
  }
 ],
 "metadata": {
  "kernelspec": {
   "display_name": "Python 3 (ipykernel)",
   "language": "python",
   "name": "python3"
  },
  "language_info": {
   "codemirror_mode": {
    "name": "ipython",
    "version": 3
   },
   "file_extension": ".py",
   "mimetype": "text/x-python",
   "name": "python",
   "nbconvert_exporter": "python",
   "pygments_lexer": "ipython3",
   "version": "3.10.12"
  }
 },
 "nbformat": 4,
 "nbformat_minor": 5
}